{
 "cells": [
  {
   "cell_type": "markdown",
   "id": "6yDxo9u0d9Na",
   "metadata": {
    "id": "6yDxo9u0d9Na"
   },
   "source": [
    "# Project Business Statistics: E-news Express\n"
   ]
  },
  {
   "cell_type": "markdown",
   "id": "7e71c7a5-1677-4ac6-8d5f-3cf97d63542d",
   "metadata": {},
   "source": [
    "#### Stefhany Rodriguez "
   ]
  },
  {
   "cell_type": "markdown",
   "id": "SrLd-ICEmPSD",
   "metadata": {
    "id": "SrLd-ICEmPSD"
   },
   "source": [
    "## Define Problem Statement and Objectives"
   ]
  },
  {
   "cell_type": "markdown",
   "id": "8e0864d5-9ccb-4cdb-bc36-a289fe0cf6fe",
   "metadata": {},
   "source": [
    "* E - news  is an online news portal, and its main objective is to continue acquiring new subscribers. However, to achieve this goal, it is necessary to observe user behavior. Recently, the executives of this portal have noticed a decline in monthly subscribers and attribute it to the current webpage design. Therefore, the aim is to analyze the current user behavior, use the existing data collection to identify patterns and common behaviors, and based on that, take the necessary measures.\n",
    "* A/B testing is pertinent because it allows determining which version works better in terms of user engagement and conversion rates.\n",
    "  \n",
    "* The design team has created a new landing page that has a different layout from the previous one. Based on the collected data, as part of the data science team, I will explore the data through statistical analysis with a significance level of 5% to assess the effectiveness of this new landing page in acquiring new subscribers. The evaluation will include whether the time spent is greater on the new page compared to the old one, whether the conversion rate is higher for the new page, whether the conversion status depends on the preferred language, and whether the time spent is equal or greater for users with different preferred languages."
   ]
  },
  {
   "cell_type": "markdown",
   "id": "71f53068-71c0-474b-a280-6dbd8e0646bb",
   "metadata": {},
   "source": [
    "#### Data dictionary "
   ]
  },
  {
   "cell_type": "markdown",
   "id": "53176763-90b1-4c4f-abfa-d1f75023d082",
   "metadata": {},
   "source": [
    "The data contains information regarding the interaction of users in both groups with the two versions of the landing page.\n",
    "\n",
    "* user_id - Unique user ID of the person visiting the website\n",
    "* group - Whether the user belongs to the first group (control) or the second group (treatment)\n",
    "* landing_page - Whether the landing page is new or old\n",
    "* time_spent_on_the_page - Time (in minutes) spent by the user on the landing page\n",
    "* converted - Whether the user gets converted to a subscriber of the news portal or not\n",
    "* language_preferred - Language chosen by the user to view the landing page"
   ]
  },
  {
   "cell_type": "markdown",
   "id": "a6a3d218",
   "metadata": {
    "id": "a6a3d218"
   },
   "source": [
    "## Import all the necessary libraries"
   ]
  },
  {
   "cell_type": "code",
   "execution_count": 11,
   "id": "658c5dec",
   "metadata": {
    "id": "658c5dec"
   },
   "outputs": [],
   "source": [
    "# import libraries for data manipulation\n",
    "import numpy as np\n",
    "import pandas as pd\n",
    "# import libraries for data visualization\n",
    "from matplotlib import pyplot as plt\n",
    "import seaborn as sns"
   ]
  },
  {
   "cell_type": "markdown",
   "id": "6970dd99",
   "metadata": {
    "id": "6970dd99"
   },
   "source": [
    "## Reading the Data into a DataFrame"
   ]
  },
  {
   "cell_type": "code",
   "execution_count": 13,
   "id": "d3b95640",
   "metadata": {
    "id": "d3b95640"
   },
   "outputs": [],
   "source": [
    "#Reading the data from the folder of my posgraduate program module 2 business statistics \n",
    "df = pd.read_csv(\"/Users/stefhanyrodriguez/Documents/Business statistics/Project/abtest.csv\")"
   ]
  },
  {
   "cell_type": "markdown",
   "id": "9d75cfa2",
   "metadata": {
    "id": "9d75cfa2"
   },
   "source": [
    "## Explore the dataset and extract insights using Exploratory Data Analysis"
   ]
  },
  {
   "cell_type": "markdown",
   "id": "27201534",
   "metadata": {
    "id": "27201534"
   },
   "source": [
    "- Data Overview\n",
    "  - Viewing the first and last few rows of the dataset\n",
    "  - Checking the shape of the dataset\n",
    "  - Getting the statistical summary for the variables\n",
    "- Check for missing values\n",
    "- Check for duplicates"
   ]
  },
  {
   "cell_type": "code",
   "execution_count": 16,
   "id": "e1ad11d4",
   "metadata": {
    "id": "e1ad11d4"
   },
   "outputs": [
    {
     "data": {
      "text/html": [
       "<div>\n",
       "<style scoped>\n",
       "    .dataframe tbody tr th:only-of-type {\n",
       "        vertical-align: middle;\n",
       "    }\n",
       "\n",
       "    .dataframe tbody tr th {\n",
       "        vertical-align: top;\n",
       "    }\n",
       "\n",
       "    .dataframe thead th {\n",
       "        text-align: right;\n",
       "    }\n",
       "</style>\n",
       "<table border=\"1\" class=\"dataframe\">\n",
       "  <thead>\n",
       "    <tr style=\"text-align: right;\">\n",
       "      <th></th>\n",
       "      <th>user_id</th>\n",
       "      <th>group</th>\n",
       "      <th>landing_page</th>\n",
       "      <th>time_spent_on_the_page</th>\n",
       "      <th>converted</th>\n",
       "      <th>language_preferred</th>\n",
       "    </tr>\n",
       "  </thead>\n",
       "  <tbody>\n",
       "    <tr>\n",
       "      <th>0</th>\n",
       "      <td>546592</td>\n",
       "      <td>control</td>\n",
       "      <td>old</td>\n",
       "      <td>3.48</td>\n",
       "      <td>no</td>\n",
       "      <td>Spanish</td>\n",
       "    </tr>\n",
       "    <tr>\n",
       "      <th>1</th>\n",
       "      <td>546468</td>\n",
       "      <td>treatment</td>\n",
       "      <td>new</td>\n",
       "      <td>7.13</td>\n",
       "      <td>yes</td>\n",
       "      <td>English</td>\n",
       "    </tr>\n",
       "    <tr>\n",
       "      <th>2</th>\n",
       "      <td>546462</td>\n",
       "      <td>treatment</td>\n",
       "      <td>new</td>\n",
       "      <td>4.40</td>\n",
       "      <td>no</td>\n",
       "      <td>Spanish</td>\n",
       "    </tr>\n",
       "    <tr>\n",
       "      <th>3</th>\n",
       "      <td>546567</td>\n",
       "      <td>control</td>\n",
       "      <td>old</td>\n",
       "      <td>3.02</td>\n",
       "      <td>no</td>\n",
       "      <td>French</td>\n",
       "    </tr>\n",
       "    <tr>\n",
       "      <th>4</th>\n",
       "      <td>546459</td>\n",
       "      <td>treatment</td>\n",
       "      <td>new</td>\n",
       "      <td>4.75</td>\n",
       "      <td>yes</td>\n",
       "      <td>Spanish</td>\n",
       "    </tr>\n",
       "  </tbody>\n",
       "</table>\n",
       "</div>"
      ],
      "text/plain": [
       "   user_id      group landing_page  time_spent_on_the_page converted  \\\n",
       "0   546592    control          old                    3.48        no   \n",
       "1   546468  treatment          new                    7.13       yes   \n",
       "2   546462  treatment          new                    4.40        no   \n",
       "3   546567    control          old                    3.02        no   \n",
       "4   546459  treatment          new                    4.75       yes   \n",
       "\n",
       "  language_preferred  \n",
       "0            Spanish  \n",
       "1            English  \n",
       "2            Spanish  \n",
       "3             French  \n",
       "4            Spanish  "
      ]
     },
     "execution_count": 16,
     "metadata": {},
     "output_type": "execute_result"
    }
   ],
   "source": [
    "# Displaying the first 5 rows\n",
    "df.head()"
   ]
  },
  {
   "cell_type": "code",
   "execution_count": 17,
   "id": "73332b77-44da-4c74-9490-133af5b234ac",
   "metadata": {},
   "outputs": [
    {
     "data": {
      "text/html": [
       "<div>\n",
       "<style scoped>\n",
       "    .dataframe tbody tr th:only-of-type {\n",
       "        vertical-align: middle;\n",
       "    }\n",
       "\n",
       "    .dataframe tbody tr th {\n",
       "        vertical-align: top;\n",
       "    }\n",
       "\n",
       "    .dataframe thead th {\n",
       "        text-align: right;\n",
       "    }\n",
       "</style>\n",
       "<table border=\"1\" class=\"dataframe\">\n",
       "  <thead>\n",
       "    <tr style=\"text-align: right;\">\n",
       "      <th></th>\n",
       "      <th>user_id</th>\n",
       "      <th>group</th>\n",
       "      <th>landing_page</th>\n",
       "      <th>time_spent_on_the_page</th>\n",
       "      <th>converted</th>\n",
       "      <th>language_preferred</th>\n",
       "    </tr>\n",
       "  </thead>\n",
       "  <tbody>\n",
       "    <tr>\n",
       "      <th>95</th>\n",
       "      <td>546446</td>\n",
       "      <td>treatment</td>\n",
       "      <td>new</td>\n",
       "      <td>5.15</td>\n",
       "      <td>no</td>\n",
       "      <td>Spanish</td>\n",
       "    </tr>\n",
       "    <tr>\n",
       "      <th>96</th>\n",
       "      <td>546544</td>\n",
       "      <td>control</td>\n",
       "      <td>old</td>\n",
       "      <td>6.52</td>\n",
       "      <td>yes</td>\n",
       "      <td>English</td>\n",
       "    </tr>\n",
       "    <tr>\n",
       "      <th>97</th>\n",
       "      <td>546472</td>\n",
       "      <td>treatment</td>\n",
       "      <td>new</td>\n",
       "      <td>7.07</td>\n",
       "      <td>yes</td>\n",
       "      <td>Spanish</td>\n",
       "    </tr>\n",
       "    <tr>\n",
       "      <th>98</th>\n",
       "      <td>546481</td>\n",
       "      <td>treatment</td>\n",
       "      <td>new</td>\n",
       "      <td>6.20</td>\n",
       "      <td>yes</td>\n",
       "      <td>Spanish</td>\n",
       "    </tr>\n",
       "    <tr>\n",
       "      <th>99</th>\n",
       "      <td>546483</td>\n",
       "      <td>treatment</td>\n",
       "      <td>new</td>\n",
       "      <td>5.86</td>\n",
       "      <td>yes</td>\n",
       "      <td>English</td>\n",
       "    </tr>\n",
       "  </tbody>\n",
       "</table>\n",
       "</div>"
      ],
      "text/plain": [
       "    user_id      group landing_page  time_spent_on_the_page converted  \\\n",
       "95   546446  treatment          new                    5.15        no   \n",
       "96   546544    control          old                    6.52       yes   \n",
       "97   546472  treatment          new                    7.07       yes   \n",
       "98   546481  treatment          new                    6.20       yes   \n",
       "99   546483  treatment          new                    5.86       yes   \n",
       "\n",
       "   language_preferred  \n",
       "95            Spanish  \n",
       "96            English  \n",
       "97            Spanish  \n",
       "98            Spanish  \n",
       "99            English  "
      ]
     },
     "execution_count": 17,
     "metadata": {},
     "output_type": "execute_result"
    }
   ],
   "source": [
    "# Displaying the last 5 rows \n",
    "df.tail()"
   ]
  },
  {
   "cell_type": "code",
   "execution_count": 18,
   "id": "cb7f4a10-67e5-4560-b7fe-1b7ac939509d",
   "metadata": {},
   "outputs": [
    {
     "name": "stdout",
     "output_type": "stream",
     "text": [
      "The dataset has 100 rows.\n",
      "The dataset has 6 columns.\n"
     ]
    }
   ],
   "source": [
    "#shape returns a tuple with the number of rows and columns \n",
    "rows, columns = df.shape\n",
    "print('The dataset has', rows, 'rows.')\n",
    "print('The dataset has', columns, 'columns.')"
   ]
  },
  {
   "cell_type": "code",
   "execution_count": 19,
   "id": "467bf436-c8cd-42b7-b404-2dac67ef8eeb",
   "metadata": {},
   "outputs": [
    {
     "data": {
      "text/html": [
       "<div>\n",
       "<style scoped>\n",
       "    .dataframe tbody tr th:only-of-type {\n",
       "        vertical-align: middle;\n",
       "    }\n",
       "\n",
       "    .dataframe tbody tr th {\n",
       "        vertical-align: top;\n",
       "    }\n",
       "\n",
       "    .dataframe thead th {\n",
       "        text-align: right;\n",
       "    }\n",
       "</style>\n",
       "<table border=\"1\" class=\"dataframe\">\n",
       "  <thead>\n",
       "    <tr style=\"text-align: right;\">\n",
       "      <th></th>\n",
       "      <th>user_id</th>\n",
       "      <th>group</th>\n",
       "      <th>landing_page</th>\n",
       "      <th>time_spent_on_the_page</th>\n",
       "      <th>converted</th>\n",
       "      <th>language_preferred</th>\n",
       "    </tr>\n",
       "  </thead>\n",
       "  <tbody>\n",
       "    <tr>\n",
       "      <th>count</th>\n",
       "      <td>100.000000</td>\n",
       "      <td>100</td>\n",
       "      <td>100</td>\n",
       "      <td>100.000000</td>\n",
       "      <td>100</td>\n",
       "      <td>100</td>\n",
       "    </tr>\n",
       "    <tr>\n",
       "      <th>unique</th>\n",
       "      <td>NaN</td>\n",
       "      <td>2</td>\n",
       "      <td>2</td>\n",
       "      <td>NaN</td>\n",
       "      <td>2</td>\n",
       "      <td>3</td>\n",
       "    </tr>\n",
       "    <tr>\n",
       "      <th>top</th>\n",
       "      <td>NaN</td>\n",
       "      <td>control</td>\n",
       "      <td>old</td>\n",
       "      <td>NaN</td>\n",
       "      <td>yes</td>\n",
       "      <td>Spanish</td>\n",
       "    </tr>\n",
       "    <tr>\n",
       "      <th>freq</th>\n",
       "      <td>NaN</td>\n",
       "      <td>50</td>\n",
       "      <td>50</td>\n",
       "      <td>NaN</td>\n",
       "      <td>54</td>\n",
       "      <td>34</td>\n",
       "    </tr>\n",
       "    <tr>\n",
       "      <th>mean</th>\n",
       "      <td>546517.000000</td>\n",
       "      <td>NaN</td>\n",
       "      <td>NaN</td>\n",
       "      <td>5.377800</td>\n",
       "      <td>NaN</td>\n",
       "      <td>NaN</td>\n",
       "    </tr>\n",
       "    <tr>\n",
       "      <th>std</th>\n",
       "      <td>52.295779</td>\n",
       "      <td>NaN</td>\n",
       "      <td>NaN</td>\n",
       "      <td>2.378166</td>\n",
       "      <td>NaN</td>\n",
       "      <td>NaN</td>\n",
       "    </tr>\n",
       "    <tr>\n",
       "      <th>min</th>\n",
       "      <td>546443.000000</td>\n",
       "      <td>NaN</td>\n",
       "      <td>NaN</td>\n",
       "      <td>0.190000</td>\n",
       "      <td>NaN</td>\n",
       "      <td>NaN</td>\n",
       "    </tr>\n",
       "    <tr>\n",
       "      <th>25%</th>\n",
       "      <td>546467.750000</td>\n",
       "      <td>NaN</td>\n",
       "      <td>NaN</td>\n",
       "      <td>3.880000</td>\n",
       "      <td>NaN</td>\n",
       "      <td>NaN</td>\n",
       "    </tr>\n",
       "    <tr>\n",
       "      <th>50%</th>\n",
       "      <td>546492.500000</td>\n",
       "      <td>NaN</td>\n",
       "      <td>NaN</td>\n",
       "      <td>5.415000</td>\n",
       "      <td>NaN</td>\n",
       "      <td>NaN</td>\n",
       "    </tr>\n",
       "    <tr>\n",
       "      <th>75%</th>\n",
       "      <td>546567.250000</td>\n",
       "      <td>NaN</td>\n",
       "      <td>NaN</td>\n",
       "      <td>7.022500</td>\n",
       "      <td>NaN</td>\n",
       "      <td>NaN</td>\n",
       "    </tr>\n",
       "    <tr>\n",
       "      <th>max</th>\n",
       "      <td>546592.000000</td>\n",
       "      <td>NaN</td>\n",
       "      <td>NaN</td>\n",
       "      <td>10.710000</td>\n",
       "      <td>NaN</td>\n",
       "      <td>NaN</td>\n",
       "    </tr>\n",
       "  </tbody>\n",
       "</table>\n",
       "</div>"
      ],
      "text/plain": [
       "              user_id    group landing_page  time_spent_on_the_page converted  \\\n",
       "count      100.000000      100          100              100.000000       100   \n",
       "unique            NaN        2            2                     NaN         2   \n",
       "top               NaN  control          old                     NaN       yes   \n",
       "freq              NaN       50           50                     NaN        54   \n",
       "mean    546517.000000      NaN          NaN                5.377800       NaN   \n",
       "std         52.295779      NaN          NaN                2.378166       NaN   \n",
       "min     546443.000000      NaN          NaN                0.190000       NaN   \n",
       "25%     546467.750000      NaN          NaN                3.880000       NaN   \n",
       "50%     546492.500000      NaN          NaN                5.415000       NaN   \n",
       "75%     546567.250000      NaN          NaN                7.022500       NaN   \n",
       "max     546592.000000      NaN          NaN               10.710000       NaN   \n",
       "\n",
       "       language_preferred  \n",
       "count                 100  \n",
       "unique                  3  \n",
       "top               Spanish  \n",
       "freq                   34  \n",
       "mean                  NaN  \n",
       "std                   NaN  \n",
       "min                   NaN  \n",
       "25%                   NaN  \n",
       "50%                   NaN  \n",
       "75%                   NaN  \n",
       "max                   NaN  "
      ]
     },
     "execution_count": 19,
     "metadata": {},
     "output_type": "execute_result"
    }
   ],
   "source": [
    "#.describe() gives a summary statistical for a numerical column by default \n",
    "# include = 'all' to include numerical and categorical column \n",
    "df.describe(include='all')"
   ]
  },
  {
   "cell_type": "markdown",
   "id": "8a434cc9-2775-45e1-8515-703cb581b5b6",
   "metadata": {},
   "source": [
    "* For categorical variables pandas calculates: count, unique, top and freq. \n",
    "\n",
    "* Seeing NaN values for categorical columns in the output of .describe() is expected and indicates that those specific statistics are not applicable to categorical data.nt value.\r\n"
   ]
  },
  {
   "cell_type": "code",
   "execution_count": 21,
   "id": "2ca97a51-8499-4456-a054-8df50c6af9ac",
   "metadata": {},
   "outputs": [
    {
     "data": {
      "text/html": [
       "<div>\n",
       "<style scoped>\n",
       "    .dataframe tbody tr th:only-of-type {\n",
       "        vertical-align: middle;\n",
       "    }\n",
       "\n",
       "    .dataframe tbody tr th {\n",
       "        vertical-align: top;\n",
       "    }\n",
       "\n",
       "    .dataframe thead th {\n",
       "        text-align: right;\n",
       "    }\n",
       "</style>\n",
       "<table border=\"1\" class=\"dataframe\">\n",
       "  <thead>\n",
       "    <tr style=\"text-align: right;\">\n",
       "      <th></th>\n",
       "      <th>user_id</th>\n",
       "      <th>time_spent_on_the_page</th>\n",
       "    </tr>\n",
       "  </thead>\n",
       "  <tbody>\n",
       "    <tr>\n",
       "      <th>count</th>\n",
       "      <td>100.000000</td>\n",
       "      <td>100.000000</td>\n",
       "    </tr>\n",
       "    <tr>\n",
       "      <th>mean</th>\n",
       "      <td>546517.000000</td>\n",
       "      <td>5.377800</td>\n",
       "    </tr>\n",
       "    <tr>\n",
       "      <th>std</th>\n",
       "      <td>52.295779</td>\n",
       "      <td>2.378166</td>\n",
       "    </tr>\n",
       "    <tr>\n",
       "      <th>min</th>\n",
       "      <td>546443.000000</td>\n",
       "      <td>0.190000</td>\n",
       "    </tr>\n",
       "    <tr>\n",
       "      <th>25%</th>\n",
       "      <td>546467.750000</td>\n",
       "      <td>3.880000</td>\n",
       "    </tr>\n",
       "    <tr>\n",
       "      <th>50%</th>\n",
       "      <td>546492.500000</td>\n",
       "      <td>5.415000</td>\n",
       "    </tr>\n",
       "    <tr>\n",
       "      <th>75%</th>\n",
       "      <td>546567.250000</td>\n",
       "      <td>7.022500</td>\n",
       "    </tr>\n",
       "    <tr>\n",
       "      <th>max</th>\n",
       "      <td>546592.000000</td>\n",
       "      <td>10.710000</td>\n",
       "    </tr>\n",
       "  </tbody>\n",
       "</table>\n",
       "</div>"
      ],
      "text/plain": [
       "             user_id  time_spent_on_the_page\n",
       "count     100.000000              100.000000\n",
       "mean   546517.000000                5.377800\n",
       "std        52.295779                2.378166\n",
       "min    546443.000000                0.190000\n",
       "25%    546467.750000                3.880000\n",
       "50%    546492.500000                5.415000\n",
       "75%    546567.250000                7.022500\n",
       "max    546592.000000               10.710000"
      ]
     },
     "execution_count": 21,
     "metadata": {},
     "output_type": "execute_result"
    }
   ],
   "source": [
    "# Using .describe to have just numerical columns\n",
    "df.describe()"
   ]
  },
  {
   "cell_type": "markdown",
   "id": "1d23cdac-cd69-4381-b904-212cbb51c6ea",
   "metadata": {},
   "source": [
    "* Count, mean, std, min, 25%, 50%, 75%, max are provided for numerical variables. "
   ]
  },
  {
   "cell_type": "code",
   "execution_count": 23,
   "id": "862e5dd3-18af-44c3-9447-ab295ff06f7f",
   "metadata": {},
   "outputs": [
    {
     "name": "stdout",
     "output_type": "stream",
     "text": [
      "user_id                     int64\n",
      "group                      object\n",
      "landing_page               object\n",
      "time_spent_on_the_page    float64\n",
      "converted                  object\n",
      "language_preferred         object\n",
      "dtype: object\n"
     ]
    }
   ],
   "source": [
    "#dtypes is used to see data types of each column \n",
    "data_types_column = df.dtypes\n",
    "print(data_types_column)"
   ]
  },
  {
   "cell_type": "markdown",
   "id": "9bf21216-38dd-40e6-8888-f60c3013f039",
   "metadata": {},
   "source": [
    "* Here I can evidence the 3 different data types of the columns in the data frame. \n",
    "* User_id is integer type.\n",
    "* Group, landing_page, converted and language_preferred are objects, used to represent string type. \n",
    "* Time_spent_on_the_page is float type. "
   ]
  },
  {
   "cell_type": "markdown",
   "id": "d3d10132-32a3-400a-a591-4f84c56f5e72",
   "metadata": {},
   "source": [
    "### Missing values "
   ]
  },
  {
   "cell_type": "code",
   "execution_count": 26,
   "id": "e777ec19-1db1-4b85-ac76-a3750f520eab",
   "metadata": {},
   "outputs": [
    {
     "name": "stdout",
     "output_type": "stream",
     "text": [
      "user_id                   0\n",
      "group                     0\n",
      "landing_page              0\n",
      "time_spent_on_the_page    0\n",
      "converted                 0\n",
      "language_preferred        0\n",
      "dtype: int64\n",
      "\n",
      "Are there any missing values: true or false? False\n"
     ]
    }
   ],
   "source": [
    "#Checking for missing values \n",
    "missing_values = df.isnull().sum()\n",
    "print(missing_values)\n",
    "print('')\n",
    "it_has_missing_values = df.isnull().sum().any()\n",
    "print(\"Are there any missing values: true or false?\", it_has_missing_values)"
   ]
  },
  {
   "cell_type": "markdown",
   "id": "23811a7b-c842-430a-a3cb-7e02dfe27cf8",
   "metadata": {},
   "source": [
    "* No missing values found in the dataframe."
   ]
  },
  {
   "cell_type": "markdown",
   "id": "9f9c48c8-abe6-4c11-985b-6024586c5c5b",
   "metadata": {},
   "source": [
    "### Check for duplicates "
   ]
  },
  {
   "cell_type": "code",
   "execution_count": 29,
   "id": "5825f68f-2d55-408d-a6d0-db20dbf55a29",
   "metadata": {},
   "outputs": [
    {
     "data": {
      "text/plain": [
       "0"
      ]
     },
     "execution_count": 29,
     "metadata": {},
     "output_type": "execute_result"
    }
   ],
   "source": [
    "# Check if there's any duplicates \n",
    "duplicates= df.duplicated()\n",
    "duplicates.sum()"
   ]
  },
  {
   "cell_type": "markdown",
   "id": "b817f25a-ced4-4213-b599-dd8d68e0779a",
   "metadata": {},
   "source": [
    "* There's no duplicates in the dataframe. "
   ]
  },
  {
   "cell_type": "code",
   "execution_count": 31,
   "id": "1fd24266-65c6-4dcc-ae10-7fd5f60d11ec",
   "metadata": {},
   "outputs": [
    {
     "data": {
      "text/plain": [
       "0"
      ]
     },
     "execution_count": 31,
     "metadata": {},
     "output_type": "execute_result"
    }
   ],
   "source": [
    "# check if there's any duplicated user id \n",
    "df['user_id'].duplicated().sum()"
   ]
  },
  {
   "cell_type": "markdown",
   "id": "68f3b2c9",
   "metadata": {
    "id": "68f3b2c9"
   },
   "source": [
    "### Univariate Analysis"
   ]
  },
  {
   "cell_type": "markdown",
   "id": "41827005-0ca9-4f52-be26-1715f1d3bdc5",
   "metadata": {},
   "source": [
    "### Group "
   ]
  },
  {
   "cell_type": "code",
   "execution_count": 34,
   "id": "a21f5a6c-30b7-4035-b42e-609e45730ba9",
   "metadata": {},
   "outputs": [
    {
     "data": {
      "text/plain": [
       "2"
      ]
     },
     "execution_count": 34,
     "metadata": {},
     "output_type": "execute_result"
    }
   ],
   "source": [
    "df['group'].nunique()"
   ]
  },
  {
   "cell_type": "markdown",
   "id": "98a565cb-cdcd-4e19-b2ba-c14c1813b4f8",
   "metadata": {},
   "source": [
    "* Usage of .nunique() to understand the diversity of the data. In this column I can evidence just two unique values for group. "
   ]
  },
  {
   "cell_type": "code",
   "execution_count": 36,
   "id": "abd10adb-f30f-497b-8764-f506365b66a8",
   "metadata": {},
   "outputs": [
    {
     "data": {
      "text/plain": [
       "group\n",
       "control      50\n",
       "treatment    50\n",
       "Name: count, dtype: int64"
      ]
     },
     "execution_count": 36,
     "metadata": {},
     "output_type": "execute_result"
    }
   ],
   "source": [
    "df['group'].value_counts()"
   ]
  },
  {
   "cell_type": "markdown",
   "id": "26b95747-e671-4345-a652-20d1fba9a8d5",
   "metadata": {},
   "source": [
    "* Return the count of the unique values of the column group. There are 50 of control group and 50 of the treatment group. "
   ]
  },
  {
   "cell_type": "code",
   "execution_count": 38,
   "id": "ad1ebb16-8916-4587-85a3-221471faac77",
   "metadata": {},
   "outputs": [
    {
     "data": {
      "text/plain": [
       "Text(0.5, 1.0, 'Group')"
      ]
     },
     "execution_count": 38,
     "metadata": {},
     "output_type": "execute_result"
    },
    {
     "data": {
      "image/png": "[encoded data removed]",
      "text/plain": [
       "<Figure size 640x480 with 1 Axes>"
      ]
     },
     "metadata": {},
     "output_type": "display_data"
    }
   ],
   "source": [
    "group = df['group'].value_counts()\n",
    "group.plot(kind='bar', color='pink')\n",
    "plt.xticks(rotation=45)\n",
    "plt.title('Group')"
   ]
  },
  {
   "cell_type": "markdown",
   "id": "c6126ac4-019f-4c11-a815-aa53ab330000",
   "metadata": {},
   "source": [
    "### Landing page "
   ]
  },
  {
   "cell_type": "code",
   "execution_count": 40,
   "id": "02ffd75f-f6b2-4415-8d27-b9b30e96bf2e",
   "metadata": {},
   "outputs": [
    {
     "data": {
      "text/plain": [
       "2"
      ]
     },
     "execution_count": 40,
     "metadata": {},
     "output_type": "execute_result"
    }
   ],
   "source": [
    "df['landing_page'].nunique()"
   ]
  },
  {
   "cell_type": "markdown",
   "id": "d499fc5e-6244-47e2-bf04-ff37b7e8f6f0",
   "metadata": {},
   "source": [
    "+ Usage of .nunique() to understand the diversity of the data. In this column I can evidence just two unique values for landing_page."
   ]
  },
  {
   "cell_type": "code",
   "execution_count": 42,
   "id": "93d56e36-a181-46b5-a286-49d6b15d3ebe",
   "metadata": {},
   "outputs": [
    {
     "data": {
      "text/plain": [
       "landing_page\n",
       "old    50\n",
       "new    50\n",
       "Name: count, dtype: int64"
      ]
     },
     "execution_count": 42,
     "metadata": {},
     "output_type": "execute_result"
    }
   ],
   "source": [
    "df['landing_page'].value_counts()"
   ]
  },
  {
   "cell_type": "markdown",
   "id": "2459cfb2-0fc4-4fd5-a306-d58dc5133030",
   "metadata": {},
   "source": [
    "* Return the count of the unique values of the column landing_page. There are 50 data of old landing page and 50 data of new landing page."
   ]
  },
  {
   "cell_type": "code",
   "execution_count": 44,
   "id": "20de3d99-040a-49f1-a63b-3ba179916b17",
   "metadata": {},
   "outputs": [
    {
     "data": {
      "text/plain": [
       "([0, 1], [Text(0, 0, 'old'), Text(1, 0, 'new')])"
      ]
     },
     "execution_count": 44,
     "metadata": {},
     "output_type": "execute_result"
    },
    {
     "data": {
      "image/png": "[encoded data removed]",
      "text/plain": [
       "<Figure size 1000x500 with 1 Axes>"
      ]
     },
     "metadata": {},
     "output_type": "display_data"
    }
   ],
   "source": [
    "plt.figure(figsize=(10,5))\n",
    "sns.countplot(data=df, x='landing_page', color='yellow')\n",
    "plt.xticks(rotation=30)"
   ]
  },
  {
   "cell_type": "markdown",
   "id": "9963510f-f917-4c90-b684-d9115d9e5575",
   "metadata": {},
   "source": [
    "### Time spent on the page "
   ]
  },
  {
   "cell_type": "code",
   "execution_count": 46,
   "id": "b457742f-8c70-4a9e-a9d9-e85cde31785b",
   "metadata": {},
   "outputs": [
    {
     "data": {
      "text/plain": [
       "94"
      ]
     },
     "execution_count": 46,
     "metadata": {},
     "output_type": "execute_result"
    }
   ],
   "source": [
    "df['time_spent_on_the_page'].nunique()"
   ]
  },
  {
   "cell_type": "markdown",
   "id": "132287c5-bcdb-49c1-8022-6c1202771577",
   "metadata": {},
   "source": [
    "* Usage of .nunique() to understand the diversity of the data. In this column I can evidence 94 unique values for the time spent on the page per minutes."
   ]
  },
  {
   "cell_type": "code",
   "execution_count": 48,
   "id": "05c58ca0-6e67-4fa3-bd2d-59e15ee110d3",
   "metadata": {},
   "outputs": [
    {
     "data": {
      "text/plain": [
       "time_spent_on_the_page\n",
       "6.04    2\n",
       "4.75    2\n",
       "7.16    2\n",
       "3.88    2\n",
       "5.86    2\n",
       "0.40    2\n",
       "3.48    1\n",
       "5.08    1\n",
       "5.42    1\n",
       "2.23    1\n",
       "Name: count, dtype: int64"
      ]
     },
     "execution_count": 48,
     "metadata": {},
     "output_type": "execute_result"
    }
   ],
   "source": [
    "df['time_spent_on_the_page'].value_counts().head(10)"
   ]
  },
  {
   "cell_type": "markdown",
   "id": "67d526cb-b059-4821-9266-4f7f835c6b90",
   "metadata": {},
   "source": [
    "* Here we can evidence the duplicates in time spent on the page which are 6.04, 4.75, 7.16, 3.88, 5.86, 0.40, however, rest of the values are unique in the dataset of 100 rows. "
   ]
  },
  {
   "cell_type": "markdown",
   "id": "4809029a-447d-4a76-96d0-c635124a8ac6",
   "metadata": {},
   "source": [
    "### Inf values "
   ]
  },
  {
   "cell_type": "code",
   "execution_count": 51,
   "id": "9d1511e1-41d7-40d7-b708-03ab2a00ccd5",
   "metadata": {},
   "outputs": [
    {
     "name": "stdout",
     "output_type": "stream",
     "text": [
      "0     False\n",
      "1     False\n",
      "2     False\n",
      "3     False\n",
      "4     False\n",
      "      ...  \n",
      "95    False\n",
      "96    False\n",
      "97    False\n",
      "98    False\n",
      "99    False\n",
      "Name: time_spent_on_the_page, Length: 100, dtype: bool\n"
     ]
    }
   ],
   "source": [
    "# Identify inf values\n",
    "print(df['time_spent_on_the_page'].isin([np.inf, -np.inf]))"
   ]
  },
  {
   "cell_type": "markdown",
   "id": "b4c99801-cb9b-4839-aea2-bdf8fbfd5b84",
   "metadata": {},
   "source": [
    "* There are no infinite values. "
   ]
  },
  {
   "cell_type": "code",
   "execution_count": 53,
   "id": "bf9d3998-083a-45b8-83e6-1da7f68db1c2",
   "metadata": {},
   "outputs": [
    {
     "data": {
      "image/png": "[encoded data removed]",
      "text/plain": [
       "<Figure size 640x480 with 1 Axes>"
      ]
     },
     "metadata": {},
     "output_type": "display_data"
    }
   ],
   "source": [
    "sns.histplot(data=df, x='time_spent_on_the_page', kde=True, color='Pink')\n",
    "plt.show()"
   ]
  },
  {
   "cell_type": "markdown",
   "id": "37aa437e-db45-4708-90ce-b6c5d272e1d0",
   "metadata": {},
   "source": [
    "* The graph shows a peak around 6, indicating that most of the users spent around 6 minutes on the page. \n",
    "* A small group spent from 0-2 minutes or from 8-10 minutes, indicanting that these durations are less common. \n",
    "* The data doesn't show a normal distribution but a bit skewed left distribution with data concentrated between 4-6 minutes."
   ]
  },
  {
   "cell_type": "code",
   "execution_count": 55,
   "id": "da0b9298-f9bb-43bf-9b53-58e3b2723e7f",
   "metadata": {},
   "outputs": [
    {
     "data": {
      "image/png": "[encoded data removed]",
      "text/plain": [
       "<Figure size 640x480 with 1 Axes>"
      ]
     },
     "metadata": {},
     "output_type": "display_data"
    }
   ],
   "source": [
    "sns.boxplot(data=df, x='time_spent_on_the_page', color= 'lightcoral')\n",
    "plt.show()"
   ]
  },
  {
   "cell_type": "markdown",
   "id": "38f0c67f-05a6-4731-9d9f-10cc5b8293c8",
   "metadata": {},
   "source": [
    "* The median is a bit closer to Q1 indicating a slight left skewed distribution. \n",
    "* Most of the data point are concentrated from 4 to 7 minutes. \n",
    "* The whiskers indicate the range of values from 0 to 10 minutes. "
   ]
  },
  {
   "cell_type": "markdown",
   "id": "70d857ff-9ccb-4100-b9ba-7af080539cac",
   "metadata": {},
   "source": [
    "### Converted "
   ]
  },
  {
   "cell_type": "code",
   "execution_count": 58,
   "id": "b56f06f3-0c5f-4a88-858b-4332c8e55603",
   "metadata": {},
   "outputs": [
    {
     "data": {
      "text/plain": [
       "2"
      ]
     },
     "execution_count": 58,
     "metadata": {},
     "output_type": "execute_result"
    }
   ],
   "source": [
    "df['converted'].nunique()"
   ]
  },
  {
   "cell_type": "markdown",
   "id": "f77e0478-1078-4531-a5f2-e14e7fcd0206",
   "metadata": {},
   "source": [
    "* Usage of .nunique() to understand the diversity of the data. In this column I can evidence 2 unique values for converted."
   ]
  },
  {
   "cell_type": "code",
   "execution_count": 60,
   "id": "9da46f37-9ce2-4970-83bc-8b6decab7870",
   "metadata": {},
   "outputs": [
    {
     "data": {
      "text/plain": [
       "converted\n",
       "yes    54\n",
       "no     46\n",
       "Name: count, dtype: int64"
      ]
     },
     "execution_count": 60,
     "metadata": {},
     "output_type": "execute_result"
    }
   ],
   "source": [
    "df['converted'].value_counts()"
   ]
  },
  {
   "cell_type": "markdown",
   "id": "ec07a23a-27ed-4c65-bcec-7c92b39c3b75",
   "metadata": {},
   "source": [
    "* There are 54 yes and 46 no. 54 converted users and 46 users that did not convert."
   ]
  },
  {
   "cell_type": "code",
   "execution_count": 62,
   "id": "da8ff502-b948-4060-8f95-a7625b5eef36",
   "metadata": {},
   "outputs": [
    {
     "data": {
      "text/plain": [
       "([0, 1], [Text(0, 0, 'no'), Text(1, 0, 'yes')])"
      ]
     },
     "execution_count": 62,
     "metadata": {},
     "output_type": "execute_result"
    },
    {
     "data": {
      "image/png": "[encoded data removed]",
      "text/plain": [
       "<Figure size 1000x500 with 1 Axes>"
      ]
     },
     "metadata": {},
     "output_type": "display_data"
    }
   ],
   "source": [
    "plt.figure(figsize=(10,5))\n",
    "sns.countplot(data=df, x='converted', color='yellow')\n",
    "plt.xticks(rotation=0)"
   ]
  },
  {
   "cell_type": "markdown",
   "id": "eb452d14-537f-4ec4-b6da-bd93f19ef6c6",
   "metadata": {},
   "source": [
    "### Language preferred"
   ]
  },
  {
   "cell_type": "code",
   "execution_count": 64,
   "id": "1382ded6-c24b-4ad5-888e-fe1d5c6ea8c3",
   "metadata": {},
   "outputs": [
    {
     "data": {
      "text/plain": [
       "3"
      ]
     },
     "execution_count": 64,
     "metadata": {},
     "output_type": "execute_result"
    }
   ],
   "source": [
    "df['language_preferred'].nunique()"
   ]
  },
  {
   "cell_type": "markdown",
   "id": "57bc2fea-0af2-440d-b64f-4586ed1429ee",
   "metadata": {},
   "source": [
    "* There are 3 unique languages: English, spanish and french. "
   ]
  },
  {
   "cell_type": "code",
   "execution_count": 66,
   "id": "d87d9f20-1d1a-433a-b9a3-f965150fe734",
   "metadata": {},
   "outputs": [
    {
     "data": {
      "text/plain": [
       "language_preferred\n",
       "Spanish    34\n",
       "French     34\n",
       "English    32\n",
       "Name: count, dtype: int64"
      ]
     },
     "execution_count": 66,
     "metadata": {},
     "output_type": "execute_result"
    }
   ],
   "source": [
    "df['language_preferred'].value_counts()"
   ]
  },
  {
   "cell_type": "markdown",
   "id": "05baf898-4f64-42b7-bc20-6ce084fe201e",
   "metadata": {},
   "source": [
    "* There are 34 users that prefer spanish, 34 that prefer french and the remaining 32 that prefer english. "
   ]
  },
  {
   "cell_type": "code",
   "execution_count": 68,
   "id": "1932d0f3",
   "metadata": {
    "id": "1932d0f3"
   },
   "outputs": [
    {
     "data": {
      "text/plain": [
       "([0, 1, 2],\n",
       " [Text(0, 0, 'Spanish'), Text(1, 0, 'English'), Text(2, 0, 'French')])"
      ]
     },
     "execution_count": 68,
     "metadata": {},
     "output_type": "execute_result"
    },
    {
     "data": {
      "image/png": "[encoded data removed]",
      "text/plain": [
       "<Figure size 1000x500 with 1 Axes>"
      ]
     },
     "metadata": {},
     "output_type": "display_data"
    }
   ],
   "source": [
    "plt.figure(figsize=(10,5))\n",
    "sns.countplot(data=df, x='language_preferred', color='lightblue')\n",
    "plt.xticks(rotation=0)"
   ]
  },
  {
   "cell_type": "markdown",
   "id": "fad2de2f",
   "metadata": {
    "id": "fad2de2f"
   },
   "source": [
    "### Bivariate Analysis"
   ]
  },
  {
   "cell_type": "markdown",
   "id": "7971aa13-ade5-4b61-ac67-b497df5cd239",
   "metadata": {},
   "source": [
    "### Landing page vs time spent "
   ]
  },
  {
   "cell_type": "code",
   "execution_count": 71,
   "id": "a2ebe52a-ab45-4604-be23-1c9c3dbea137",
   "metadata": {},
   "outputs": [
    {
     "data": {
      "image/png": "[encoded data removed]",
      "text/plain": [
       "<Figure size 1000x600 with 1 Axes>"
      ]
     },
     "metadata": {},
     "output_type": "display_data"
    }
   ],
   "source": [
    "# To compare the distribution of time spent on old and new landing pages \n",
    "plt.figure(figsize=(10,6))\n",
    "sns.boxplot(data=df,x='landing_page',y='time_spent_on_the_page', color= 'lightcoral')\n",
    "plt.show()"
   ]
  },
  {
   "cell_type": "markdown",
   "id": "48e26f12-d250-4c93-8302-11143578a1b3",
   "metadata": {},
   "source": [
    "* Old landing page median time spent is around 4 minutes. \n",
    "* The IQR varies from 3 to 6 minutes.\n",
    "* For the old landing page there are no visible outliers.\n",
    "* New landing page median time spent is close to 7 minutes.\n",
    "* The IQR varies from aprox 5 to 7 minutes.\n"
   ]
  },
  {
   "cell_type": "code",
   "execution_count": 73,
   "id": "427f8487-5327-4f22-9e1f-04f284002e7e",
   "metadata": {},
   "outputs": [
    {
     "data": {
      "image/png": "[encoded data removed]",
      "text/plain": [
       "<Figure size 1000x600 with 1 Axes>"
      ]
     },
     "metadata": {},
     "output_type": "display_data"
    }
   ],
   "source": [
    "# To compare the density of time spent on different landing pages \n",
    "plt.figure(figsize=(10,6))\n",
    "sns.violinplot(data=df,x='landing_page',y='time_spent_on_the_page', color= 'pink')\n",
    "plt.show()"
   ]
  },
  {
   "cell_type": "markdown",
   "id": "7c5415b2-1efa-49ab-957e-dffa52124e54",
   "metadata": {},
   "source": [
    "* The shape of the violin corresponding to the old page shows that the range vary from -2 to around 12. Most data seems to cluster between 3 to 6. It has a narrower shape, however, the violin for the new page is wider and exhibit a greater clustering from 5 to 8 minutes, indicating a significant change in user behavior. It can suggests that the new landing page has a significant impact in the time spent on the page."
   ]
  },
  {
   "cell_type": "markdown",
   "id": "81ae9ec9-5ba3-4f27-b03c-396938cc35a8",
   "metadata": {
    "id": "58e9a1d0"
   },
   "source": [
    "### Converted vs time spent "
   ]
  },
  {
   "cell_type": "code",
   "execution_count": 76,
   "id": "616dadc9-29b9-4961-9816-a279049c3a96",
   "metadata": {},
   "outputs": [
    {
     "data": {
      "image/png": "[encoded data removed]",
      "text/plain": [
       "<Figure size 1000x600 with 1 Axes>"
      ]
     },
     "metadata": {},
     "output_type": "display_data"
    }
   ],
   "source": [
    "# To compare the distribution of time spent for converted and non converted \n",
    "plt.figure(figsize=(10,6))\n",
    "sns.boxplot(data=df,x='converted',y='time_spent_on_the_page', color= 'coral')\n",
    "plt.show()"
   ]
  },
  {
   "cell_type": "markdown",
   "id": "64278dea-353f-4ad1-8733-8a927143394f",
   "metadata": {},
   "source": [
    "* The median time spent on the page is higher for the users who converted ( approx 6.5)  that for the users who did not convert (around 4 min).\n",
    "* Users who converted have narrower IQR, indicating more consistency, less variability in the time spent.\n",
    "* No and yes groups have outliers however no group has a higher outlier indicating that some users spent more time without converting, but it is atypical.\n",
    "* Converted users tend to spend more time on the page suggeting to be more engaged. On the other hand IQR of non converted users suggests that some people spend very little time and it can indicate lack of interest. \n",
    "                                             "
   ]
  },
  {
   "cell_type": "code",
   "execution_count": 78,
   "id": "01bd7e1c-d2d1-4b06-8010-58dc9faa83ee",
   "metadata": {},
   "outputs": [
    {
     "data": {
      "image/png": "[encoded data removed]",
      "text/plain": [
       "<Figure size 1000x600 with 1 Axes>"
      ]
     },
     "metadata": {},
     "output_type": "display_data"
    }
   ],
   "source": [
    "# To compare the density of time spent for converted and non converted\n",
    "plt.figure(figsize=(10,6))\n",
    "sns.violinplot(data=df,x='converted',y='time_spent_on_the_page', color= 'pink')\n",
    "plt.show()"
   ]
  },
  {
   "cell_type": "markdown",
   "id": "6149084e-5355-4d50-a2d7-be295aa21b53",
   "metadata": {},
   "source": [
    "* The violin \"no\" shows that users who did not convert tend to spend a less amount of time on the page and most data is around 3 to 5. The distribution is narrower compared to the converted group.\n",
    "  \n",
    "* The right violin indicates that users who converted spend significantly more time on the page with a median above 6 and a broader range, suggesting higher engagement levels.\n",
    "\n",
    "* The comparison of these two violin plots shows that users who converted spend more time on the page than those who did not. "
   ]
  },
  {
   "cell_type": "markdown",
   "id": "87c7dbc7-f5fd-4eff-9afe-9e1c0ee649d5",
   "metadata": {},
   "source": [
    "### Language preferred vs time spent "
   ]
  },
  {
   "cell_type": "code",
   "execution_count": 81,
   "id": "1215eeeb-80b8-4ff0-9b12-da0688d07b9b",
   "metadata": {},
   "outputs": [
    {
     "data": {
      "image/png": "[encoded data removed]",
      "text/plain": [
       "<Figure size 1000x600 with 1 Axes>"
      ]
     },
     "metadata": {},
     "output_type": "display_data"
    }
   ],
   "source": [
    "# To compared the distriibution in the time spent for different languages preferred \n",
    "plt.figure(figsize=(10,6))\n",
    "sns.boxplot(data=df,x='language_preferred',y='time_spent_on_the_page', color= 'lightblue')\n",
    "plt.show()"
   ]
  },
  {
   "cell_type": "markdown",
   "id": "a09a71c9-6213-45b5-a27f-4c0988d2df51",
   "metadata": {},
   "source": [
    "* Spanish users have the narrowest IQR, indicating less variability. Followed by english users and finally french users.\n",
    "* Spanish users show one outlier, evidencing that at least one person spent significantly less time, almost 0 minutes. There's an atypical value.\n",
    "* French has the largest IQR, indicating more variability, as well as English users which have similar range.\n",
    "* All three languages preferences has similar median values. "
   ]
  },
  {
   "cell_type": "code",
   "execution_count": 83,
   "id": "6f25931b-6f12-4cf5-8924-0152742403d8",
   "metadata": {},
   "outputs": [
    {
     "data": {
      "image/png": "[encoded data removed]",
      "text/plain": [
       "<Figure size 1000x600 with 1 Axes>"
      ]
     },
     "metadata": {},
     "output_type": "display_data"
    }
   ],
   "source": [
    "# To compare the density of time spent for language preference\n",
    "plt.figure(figsize=(10,6))\n",
    "sns.violinplot(data=df,x='language_preferred',y='time_spent_on_the_page', color= 'pink')\n",
    "plt.show()"
   ]
  },
  {
   "cell_type": "markdown",
   "id": "2e63f191-9cac-418a-9a2e-a0c23d7ca507",
   "metadata": {},
   "source": [
    "* The violin plot for Spanish-speaking users is wider, which means that we have a higher data density in that area, specifically, more observations in the range of 5 to 6 minutes. However, the violin plot for French and English-speaking users is more elongated, indicating that the data is mostly distributed over a broader range, suggesting greater variability or dispersion in the data"
   ]
  },
  {
   "cell_type": "markdown",
   "id": "27906576",
   "metadata": {
    "id": "27906576"
   },
   "source": [
    "## 1. Do the users spend more time on the new landing page than the existing landing page?"
   ]
  },
  {
   "cell_type": "markdown",
   "id": "e5fdf0c8",
   "metadata": {
    "id": "e5fdf0c8"
   },
   "source": [
    "### Perform Visual Analysis"
   ]
  },
  {
   "cell_type": "code",
   "execution_count": 87,
   "id": "6eZJa41eg21n",
   "metadata": {
    "id": "6eZJa41eg21n"
   },
   "outputs": [
    {
     "data": {
      "image/png": "[encoded data removed]",
      "text/plain": [
       "<Figure size 1000x600 with 1 Axes>"
      ]
     },
     "metadata": {},
     "output_type": "display_data"
    }
   ],
   "source": [
    "# To compare the distribution of time spent on old and new landing pages \n",
    "plt.figure(figsize=(10,6))\n",
    "sns.boxplot(data=df,x='landing_page',y='time_spent_on_the_page', color= 'lightcoral')\n",
    "plt.show()"
   ]
  },
  {
   "cell_type": "markdown",
   "id": "56b3dafd",
   "metadata": {
    "id": "56b3dafd"
   },
   "source": [
    "### Step 1: Define the null and alternate hypotheses"
   ]
  },
  {
   "cell_type": "markdown",
   "id": "d2ac77ef",
   "metadata": {
    "id": "d2ac77ef"
   },
   "source": [
    "I'm gonna test the null hypothesis\n",
    "\n",
    "* $H_0:\\mu_N=\\mu_O$. The mean time spent on the new landing page is equal to the mean time spent on the old landing page\n",
    "\n",
    "against the alternate hypothesis\n",
    "\n",
    "* $H_a:\\mu_N>\\mu_O$. The mean time spent on the new landing is greater than the mean time spent on the old landing page."
   ]
  },
  {
   "cell_type": "markdown",
   "id": "c7ee4907",
   "metadata": {
    "id": "c7ee4907"
   },
   "source": [
    "### Step 2: Select Appropriate test"
   ]
  },
  {
   "cell_type": "markdown",
   "id": "2c183cd7",
   "metadata": {
    "id": "2c183cd7"
   },
   "source": [
    "* Two sample t-test. To compare the means of two independent groups."
   ]
  },
  {
   "cell_type": "markdown",
   "id": "3f58c9a7",
   "metadata": {
    "id": "3f58c9a7"
   },
   "source": [
    "### Step 3: Decide the significance level"
   ]
  },
  {
   "cell_type": "markdown",
   "id": "92d7d7ee",
   "metadata": {
    "id": "92d7d7ee"
   },
   "source": [
    "* I'm gonna use the significance level given in the problem statement. \n",
    "* $\\alpha = 0.05$."
   ]
  },
  {
   "cell_type": "markdown",
   "id": "5fed2eac",
   "metadata": {
    "id": "5fed2eac"
   },
   "source": [
    "### Step 4: Collect and prepare data"
   ]
  },
  {
   "cell_type": "code",
   "execution_count": 95,
   "id": "f5a59495",
   "metadata": {
    "id": "f5a59495"
   },
   "outputs": [
    {
     "name": "stdout",
     "output_type": "stream",
     "text": [
      "0      3.48\n",
      "3      3.02\n",
      "5      5.28\n",
      "7      6.53\n",
      "9      2.08\n",
      "10     6.21\n",
      "11     2.58\n",
      "14     8.72\n",
      "17     0.40\n",
      "18    10.30\n",
      "19     3.88\n",
      "20     2.66\n",
      "21     7.03\n",
      "27     4.05\n",
      "29     4.28\n",
      "31     3.52\n",
      "32     5.39\n",
      "33     4.52\n",
      "34     4.46\n",
      "35     8.50\n",
      "36     3.13\n",
      "37     6.04\n",
      "39     0.19\n",
      "40     8.46\n",
      "41     1.92\n",
      "45     8.02\n",
      "50     0.22\n",
      "53     4.71\n",
      "55     0.93\n",
      "56     1.81\n",
      "58     7.40\n",
      "59     9.15\n",
      "62     4.18\n",
      "63     5.47\n",
      "64     5.96\n",
      "66     6.60\n",
      "67     4.75\n",
      "69     2.23\n",
      "70     0.40\n",
      "74     4.87\n",
      "75     6.57\n",
      "76     1.44\n",
      "79     3.21\n",
      "83     2.90\n",
      "84     4.30\n",
      "85     0.91\n",
      "89     6.04\n",
      "92     8.35\n",
      "94     3.05\n",
      "96     6.52\n",
      "Name: time_spent_on_the_page, dtype: float64\n"
     ]
    }
   ],
   "source": [
    "# Separate the data for each landing page \n",
    "#OLD\n",
    "old_page_time_spent = df[df['landing_page'] == 'old']['time_spent_on_the_page']\n",
    "print(old_page_time_spent)"
   ]
  },
  {
   "cell_type": "code",
   "execution_count": 96,
   "id": "72944e47-b8e9-4b60-b352-f095dad9724e",
   "metadata": {},
   "outputs": [
    {
     "name": "stdout",
     "output_type": "stream",
     "text": [
      "1      7.13\n",
      "2      4.40\n",
      "4      4.75\n",
      "6      5.25\n",
      "8     10.71\n",
      "12     5.86\n",
      "13     6.03\n",
      "15     6.27\n",
      "16     8.73\n",
      "22     3.65\n",
      "23     7.02\n",
      "24     6.18\n",
      "25     4.39\n",
      "26     9.49\n",
      "28     7.81\n",
      "30     5.41\n",
      "38     1.65\n",
      "42     7.16\n",
      "43     7.16\n",
      "44     3.91\n",
      "46     5.37\n",
      "47     7.23\n",
      "48     8.08\n",
      "49    10.50\n",
      "51     5.65\n",
      "52     6.47\n",
      "54     6.41\n",
      "57     8.30\n",
      "60     6.01\n",
      "61     6.79\n",
      "65     7.27\n",
      "68     6.70\n",
      "71     5.42\n",
      "72     5.08\n",
      "73     7.46\n",
      "77     3.88\n",
      "78     9.12\n",
      "80     4.68\n",
      "81     5.26\n",
      "82     5.74\n",
      "86     6.71\n",
      "87     3.68\n",
      "88     3.30\n",
      "90     5.40\n",
      "91     8.47\n",
      "93     4.94\n",
      "95     5.15\n",
      "97     7.07\n",
      "98     6.20\n",
      "99     5.86\n",
      "Name: time_spent_on_the_page, dtype: float64\n"
     ]
    }
   ],
   "source": [
    "# Separate the data for each landing page \n",
    "# NEW\n",
    "new_page_time_spent = df[df['landing_page'] == 'new']['time_spent_on_the_page']\n",
    "print(new_page_time_spent)"
   ]
  },
  {
   "cell_type": "code",
   "execution_count": 97,
   "id": "6e803b09-428c-4b50-b496-60b5cf8a405f",
   "metadata": {},
   "outputs": [
    {
     "name": "stdout",
     "output_type": "stream",
     "text": [
      "The sample standard deviation of the time spent on the old page is: 2.58\n",
      "The sample standard deviation of the time spent on the new page is: 1.82\n"
     ]
    }
   ],
   "source": [
    "print('The sample standard deviation of the time spent on the old page is:', round(old_page_time_spent.std(),2))\n",
    "print('The sample standard deviation of the time spent on the new page is:', round(new_page_time_spent.std(),2))"
   ]
  },
  {
   "cell_type": "markdown",
   "id": "2bc8742f-dc60-415c-a14f-7644a6aaf65f",
   "metadata": {},
   "source": [
    "* Since the standard deviation is unequal, I'm gonna choose alternative = 'greater'"
   ]
  },
  {
   "cell_type": "markdown",
   "id": "f5c5258d",
   "metadata": {
    "id": "f5c5258d"
   },
   "source": [
    "### Step 5: Calculate the p-value"
   ]
  },
  {
   "cell_type": "code",
   "execution_count": 100,
   "id": "fac8594a",
   "metadata": {
    "id": "fac8594a"
   },
   "outputs": [
    {
     "name": "stdout",
     "output_type": "stream",
     "text": [
      "The p-value is  0.00013923812251665497\n"
     ]
    }
   ],
   "source": [
    "#import the required functions\n",
    "from scipy.stats import ttest_ind\n",
    "\n",
    "# find the p-value\n",
    "test_stat, p_value = ttest_ind(new_page_time_spent, old_page_time_spent, equal_var = False, alternative = 'greater')\n",
    "print('The p-value is ', p_value)"
   ]
  },
  {
   "cell_type": "markdown",
   "id": "359b12f8",
   "metadata": {
    "id": "359b12f8"
   },
   "source": [
    "### Step 6: Compare the p-value with $\\alpha$"
   ]
  },
  {
   "cell_type": "code",
   "execution_count": 102,
   "id": "7be47289",
   "metadata": {
    "id": "7be47289"
   },
   "outputs": [
    {
     "name": "stdout",
     "output_type": "stream",
     "text": [
      "Reject the null hypothesis because the p-value is less than the level of significance: Users spend more time on the new landing page than on the existing landing page.\n"
     ]
    }
   ],
   "source": [
    "# Compare p-value with alpha\n",
    "alpha = 0.05\n",
    "if p_value < alpha:\n",
    "    print(\"Reject the null hypothesis because the p-value is less than the level of significance: \"+ \n",
    "    \"Users spend more time on the new landing page than on the existing landing page.\")\n",
    "else:\n",
    "    print(\"Fail to reject the null hypothesis because the p-value is greater than the level of significance: \" +  \n",
    "    \"There is no significant difference in the time spent on the new and existing landing pages.\")"
   ]
  },
  {
   "cell_type": "markdown",
   "id": "d9affc84",
   "metadata": {
    "id": "d9affc84"
   },
   "source": [
    "### Step 7:  Inference"
   ]
  },
  {
   "cell_type": "markdown",
   "id": "6b16dd4b",
   "metadata": {
    "id": "6b16dd4b"
   },
   "source": [
    "* Addressing to the query to get to know if users spend more time on the new landing page than the existing landing page, I chose to compare the mean time spent on the new landing page against the mean time spent on the old landing page.\n",
    "  \n",
    "*  The null hypothesis formulated indicates that the mean time spent on the new landing page is EQUAL to the mean time spent on the old landing page. Meanwhile, the alternate hypothesis suggests that the mean time spent on the new landing page is greater than the mean time spent on the old landing page.\n",
    "  \n",
    "*  A two-sample t-test was done since the purpose was to compare the means of two independent groups. The p-value found was 0.000139, which is considerably lower than the significance level of 5% (0.05). So, the null hypothesis is rejected.\n",
    "  \n",
    "*  Since we rejected the null hypothesis, it indicates that users spend more time on the new landing page compared to the old landing page. The mean time spent is not equal as the null hypothesis suggested.\n",
    "  \n",
    "*  It may indicate that the new design of the landing page was successful in terms of user engagement.\n",
    "  \n",
    "*  The visual analysis confirms this conclusion, since visually it is evident that the median time spent on the new landing page is greater than on the old landing age. Also, the IQR is narrower, suggesting more consistency on user experience.\n",
    "  \n",
    "*  We can conclude that the new landing page has a positive impact on user behavior. \n"
   ]
  },
  {
   "cell_type": "markdown",
   "id": "353e9d24",
   "metadata": {
    "id": "353e9d24"
   },
   "source": [
    "## 2. Is the conversion rate (the proportion of users who visit the landing page and get converted) for the new page greater than the conversion rate for the old page?"
   ]
  },
  {
   "cell_type": "markdown",
   "id": "8a2b8082-ff13-4058-b563-5338d745bf26",
   "metadata": {
    "id": "b7f52898"
   },
   "source": [
    "### Perform Visual Analysis"
   ]
  },
  {
   "cell_type": "code",
   "execution_count": 107,
   "id": "1d1c9b90-bc91-41f0-9235-d5d63ece504e",
   "metadata": {},
   "outputs": [
    {
     "data": {
      "image/png": "[encoded data removed]",
      "text/plain": [
       "<Figure size 600x600 with 1 Axes>"
      ]
     },
     "metadata": {},
     "output_type": "display_data"
    }
   ],
   "source": [
    "# Convert 'yes'/'no' to binary values with lambda function \n",
    "df['converted'] = df['converted'].apply(lambda x: 1 if x == 'yes' else 0)\n",
    "\n",
    "# Calculate conversion rates\n",
    "conversion_rates = df.groupby('landing_page')['converted'].mean().reset_index()\n",
    "# Plot the conversion rates\n",
    "plt.figure(figsize=(6, 6))\n",
    "sns.barplot(x='landing_page', y='converted', data=conversion_rates)\n",
    "plt.title('Conversion Rates by Landing Page')\n",
    "plt.xlabel('Landing Page')\n",
    "plt.ylabel('Conversion Rate')\n",
    "plt.show()"
   ]
  },
  {
   "cell_type": "markdown",
   "id": "c7ed5aaa-2ad1-4003-bf10-ad89f0f42d6f",
   "metadata": {},
   "source": [
    "### Step 1: Define the null and alternate hypotheses"
   ]
  },
  {
   "cell_type": "markdown",
   "id": "6d66a112-f63a-4264-8f7b-2b86566a41a5",
   "metadata": {},
   "source": [
    "I'm gonna test the null hypothesis\n",
    "\n",
    "* $H_0:\\mu_N=\\mu_O$. The conversion rate for the new landing page is equal to the conversion rate for the old landing page\n",
    "\n",
    "against the alternate hypothesis\n",
    "\n",
    "* $H_a:\\mu_N>\\mu_O$. The conversion rate for the new landing is greater than the conversion rate for the old landing page."
   ]
  },
  {
   "cell_type": "markdown",
   "id": "f62f701d-0076-483f-a9c5-1d2262fe58cd",
   "metadata": {},
   "source": [
    "### Step 2: Select Appropriate test"
   ]
  },
  {
   "cell_type": "markdown",
   "id": "b02743b3-f21b-48d1-b24b-0c9161839936",
   "metadata": {},
   "source": [
    "* A two sample proportions z-test is a good fit for comparing the conversion rates between two independent groups. "
   ]
  },
  {
   "cell_type": "markdown",
   "id": "1dae057e-85e7-4cfb-936a-3a2505cdcbfe",
   "metadata": {},
   "source": [
    "### Step 3: Decide the significance level"
   ]
  },
  {
   "cell_type": "markdown",
   "id": "1bffcf99-2a71-45bb-a84c-ff564c3d3935",
   "metadata": {},
   "source": [
    "* I'm gonna use the significance level given in the problem statement. \n",
    "* $\\alpha = 0.05$."
   ]
  },
  {
   "cell_type": "markdown",
   "id": "006c792c-c712-494a-937e-5ac0b9c3336d",
   "metadata": {},
   "source": [
    "### Step 4: Collect and prepare data"
   ]
  },
  {
   "cell_type": "code",
   "execution_count": 115,
   "id": "136045c3-dc21-4b5e-839c-4e61404e526a",
   "metadata": {},
   "outputs": [],
   "source": [
    "# Separate the data for each landing page\n",
    "old_landing_page = df[df['landing_page'] == 'old']\n",
    "new_landing_page = df[df['landing_page'] == 'new']"
   ]
  },
  {
   "cell_type": "markdown",
   "id": "82ae726c-32d0-4565-bab8-7f31a987136e",
   "metadata": {},
   "source": [
    "### Step 5: Calculate the p-value"
   ]
  },
  {
   "cell_type": "code",
   "execution_count": 117,
   "id": "4cc890e1-8f9b-4bf3-9588-2787cad9b60b",
   "metadata": {},
   "outputs": [
    {
     "name": "stdout",
     "output_type": "stream",
     "text": [
      "P-value: 0.008026308204056278\n"
     ]
    }
   ],
   "source": [
    "from statsmodels.stats.proportion import proportions_ztest\n",
    "\n",
    "# Number of conversions\n",
    "old_conversions = old_landing_page['converted'].sum()\n",
    "new_conversions = new_landing_page['converted'].sum()\n",
    "\n",
    "# Number of total observations\n",
    "number_old = old_landing_page.shape[0]\n",
    "number_new = new_landing_page.shape[0]\n",
    "\n",
    "# Perform the z-test\n",
    "count = [new_conversions, old_conversions]\n",
    "nobs = [number_new, number_old]\n",
    "stat, p_value = proportions_ztest(count, nobs, alternative='larger')\n",
    "\n",
    "print(f'P-value: {p_value}')"
   ]
  },
  {
   "cell_type": "markdown",
   "id": "c6695c5d-f89f-476d-a3f2-8666f46a5de8",
   "metadata": {},
   "source": [
    "### Step 6: Compare the p-value with $\\alpha$"
   ]
  },
  {
   "cell_type": "code",
   "execution_count": 119,
   "id": "2f48608f-17ff-4859-a34c-7c7bee7cc6df",
   "metadata": {},
   "outputs": [
    {
     "name": "stdout",
     "output_type": "stream",
     "text": [
      "Reject the null hypothesis because the p-value is less than the level of significance: The conversion rate for the new page is greater than the conversion rate for the old page\n"
     ]
    }
   ],
   "source": [
    "# Compare p-value with alpha\n",
    "alpha = 0.05\n",
    "if p_value < alpha:\n",
    "    print(\"Reject the null hypothesis because the p-value is less than the level of significance: \"+ \n",
    "    \"The conversion rate for the new page is greater than the conversion rate for the old page\")\n",
    "else:\n",
    "    print(\"Fail to reject the null hypothesis because the p-value is greater than the level of significance: \" +  \n",
    "    \"There is not enough evidence to conclude that the conversion rate for the new page is greater than the conversion rate for the old page\")"
   ]
  },
  {
   "cell_type": "markdown",
   "id": "88ecc497-1000-4404-a6f9-98ce2d52021c",
   "metadata": {},
   "source": [
    "### Step 7:  Inference"
   ]
  },
  {
   "cell_type": "markdown",
   "id": "24cdde71-ba88-4d01-a559-7785e3dd91c0",
   "metadata": {},
   "source": [
    "\n",
    "* Since the query aimes to determine if the conversion rate (the proportion of users who visit the landing page and successfully convert) for the new landing page is greater than that of the old landing page. The null hypothesis formulated indicates  that the conversion rate for the new landing page is EQUAL to the conversion rate for the old landing page and the alternate hypothesis suggests that the conversion rate for the new landing page is greater than the conversion rate for the old landing page.\n",
    "  \n",
    "* A two-sample proportions z-test  was done since it is a good fit for this case and the p-value obtained was 0.008026, which is less than the significance level 0.05. So, the null hypothesis is rejected.\n",
    "  \n",
    "* The rejection of the null hypothesis indicates that there's strong statistical evidence that the conversion rate for the new landing page is greater than that for the old landing page, it is not equal as it was stated.\n",
    "  \n",
    "* This can lead to the conclusion that the changes done to the new page have had a positive impact in user conversion rates.\n",
    "  \n",
    "* In the bar chart, we can evidence visually that the conversion rate for the new landing page (the blue bar approx 0.7) is higher than for the old landing page (the orange bar approx 0.4).\n",
    "  \n",
    "* In conclusion, the new landing page has impact positively in enhacing user conversions rates. New design leads to a higher conversion rates."
   ]
  },
  {
   "cell_type": "markdown",
   "id": "d49bfa2d",
   "metadata": {
    "id": "d49bfa2d"
   },
   "source": [
    "## 3. Is the conversion and preferred language are independent or related?"
   ]
  },
  {
   "cell_type": "markdown",
   "id": "8e873113-4b16-4812-9c08-1451804f2cea",
   "metadata": {
    "id": "b0e63f17"
   },
   "source": [
    "### Perform Visual Analysis"
   ]
  },
  {
   "cell_type": "code",
   "execution_count": 124,
   "id": "518e3982-ae4a-4245-8c86-30f71d18ed34",
   "metadata": {},
   "outputs": [
    {
     "data": {
      "image/png": "[encoded data removed]",
      "text/plain": [
       "<Figure size 600x800 with 1 Axes>"
      ]
     },
     "metadata": {},
     "output_type": "display_data"
    }
   ],
   "source": [
    "pd.crosstab(df['language_preferred'],df['converted'],normalize='index').plot(kind=\"bar\", figsize=(6,8), stacked=True)\n",
    "plt.show()"
   ]
  },
  {
   "cell_type": "markdown",
   "id": "59fff5c9-5a14-49d5-8d81-6e45ed2d079e",
   "metadata": {},
   "source": [
    "### Step 1: Define the null and alternate hypotheses"
   ]
  },
  {
   "cell_type": "markdown",
   "id": "91938978-4db9-4866-b1a6-6e84bf5067de",
   "metadata": {},
   "source": [
    "* Null Hypothesis ($H_0\\$): Conversion status is independent of preferred language.\n",
    "\n",
    "* Alternative Hypothesis ($H_a\\$): Conversion status is related to preferred language."
   ]
  },
  {
   "cell_type": "markdown",
   "id": "d0089fc2-0dad-498c-8081-f6860cd01094",
   "metadata": {},
   "source": [
    "### Step 2: Select Appropriate test"
   ]
  },
  {
   "cell_type": "markdown",
   "id": "4fab053f-af63-4907-aee6-14bf82df1387",
   "metadata": {},
   "source": [
    "* Use the chi-square test of independence to determine if there is a significant association between conversion status and preferred language.\n"
   ]
  },
  {
   "cell_type": "markdown",
   "id": "e3562a8e-c4ea-417d-97b4-3bddba69ce59",
   "metadata": {},
   "source": [
    "### Step 3: Decide the significance level"
   ]
  },
  {
   "cell_type": "markdown",
   "id": "4b298cff-3980-4059-9da7-f95549e6bb05",
   "metadata": {},
   "source": [
    "* I'm gonna use the significance level given in the problem statement. \n",
    "* $\\alpha = 0.05$."
   ]
  },
  {
   "cell_type": "markdown",
   "id": "5fe6fa7e-1b7e-4041-b242-afaf51c5544a",
   "metadata": {},
   "source": [
    "### Step 4: Collect and prepare data"
   ]
  },
  {
   "cell_type": "code",
   "execution_count": 132,
   "id": "0025df2d-59a4-4945-a7d0-0287210c56c3",
   "metadata": {},
   "outputs": [
    {
     "data": {
      "text/html": [
       "<div>\n",
       "<style scoped>\n",
       "    .dataframe tbody tr th:only-of-type {\n",
       "        vertical-align: middle;\n",
       "    }\n",
       "\n",
       "    .dataframe tbody tr th {\n",
       "        vertical-align: top;\n",
       "    }\n",
       "\n",
       "    .dataframe thead th {\n",
       "        text-align: right;\n",
       "    }\n",
       "</style>\n",
       "<table border=\"1\" class=\"dataframe\">\n",
       "  <thead>\n",
       "    <tr style=\"text-align: right;\">\n",
       "      <th>converted</th>\n",
       "      <th>0</th>\n",
       "      <th>1</th>\n",
       "    </tr>\n",
       "    <tr>\n",
       "      <th>language_preferred</th>\n",
       "      <th></th>\n",
       "      <th></th>\n",
       "    </tr>\n",
       "  </thead>\n",
       "  <tbody>\n",
       "    <tr>\n",
       "      <th>English</th>\n",
       "      <td>11</td>\n",
       "      <td>21</td>\n",
       "    </tr>\n",
       "    <tr>\n",
       "      <th>French</th>\n",
       "      <td>19</td>\n",
       "      <td>15</td>\n",
       "    </tr>\n",
       "    <tr>\n",
       "      <th>Spanish</th>\n",
       "      <td>16</td>\n",
       "      <td>18</td>\n",
       "    </tr>\n",
       "  </tbody>\n",
       "</table>\n",
       "</div>"
      ],
      "text/plain": [
       "converted            0   1\n",
       "language_preferred        \n",
       "English             11  21\n",
       "French              19  15\n",
       "Spanish             16  18"
      ]
     },
     "execution_count": 132,
     "metadata": {},
     "output_type": "execute_result"
    }
   ],
   "source": [
    "contingency_table = pd.crosstab(df['language_preferred'],df['converted'])\n",
    "contingency_table"
   ]
  },
  {
   "cell_type": "markdown",
   "id": "59e0ee21-5efa-442d-ab2d-83f7b239c1a3",
   "metadata": {},
   "source": [
    "### Step 5: Calculate the p-value"
   ]
  },
  {
   "cell_type": "code",
   "execution_count": 134,
   "id": "95be936c-4888-4409-8199-80693db8865f",
   "metadata": {},
   "outputs": [],
   "source": [
    "# Convert 'yes'/'no' to binary values with lambda function \n",
    "df['converted_new'] = df['converted'].apply(lambda x: 1 if x == 'yes' else 0)\n",
    "\n",
    "# Create a crosstab of conversion status and preferred language\n",
    "conversion_language_crosstab = pd.crosstab(df['converted_new'], df['language_preferred'])"
   ]
  },
  {
   "cell_type": "code",
   "execution_count": 135,
   "id": "f37c6ac3-7ac9-48d6-afda-ba59a2e313c4",
   "metadata": {},
   "outputs": [
    {
     "name": "stdout",
     "output_type": "stream",
     "text": [
      "The p-value: is 1.0\n"
     ]
    }
   ],
   "source": [
    "from scipy.stats import chi2_contingency\n",
    "\n",
    "# Perform the chi-square test\n",
    "chi2_stat, p_value, dof, expected = chi2_contingency(conversion_language_crosstab)\n",
    "print('The p-value: is', p_value)"
   ]
  },
  {
   "cell_type": "markdown",
   "id": "1d043310-5879-4610-8e00-cf193e11eec9",
   "metadata": {},
   "source": [
    "### Step 6: Compare the p-value with $\\alpha$"
   ]
  },
  {
   "cell_type": "code",
   "execution_count": 137,
   "id": "4c5cef45-92d8-45a6-8b56-690474cf3e8f",
   "metadata": {},
   "outputs": [
    {
     "name": "stdout",
     "output_type": "stream",
     "text": [
      "Fail to reject the null hypothesis because the p-value is greater than the level of significance: Conversion status and preferred language are independent.\n"
     ]
    }
   ],
   "source": [
    "alpha = 0.05\n",
    "\n",
    "if p_value < alpha:\n",
    "    print(\"Reject the null hypothesis because the p-value is less than the level of significance: Conversion status and preferred language are related.\")\n",
    "else:\n",
    "    print(\"Fail to reject the null hypothesis because the p-value is greater than the level of significance: Conversion status and preferred language are independent.\")\n",
    "    "
   ]
  },
  {
   "cell_type": "markdown",
   "id": "82627b99-5441-4ef8-a380-d11444f6f49b",
   "metadata": {},
   "source": [
    "### Step 7:  Inference"
   ]
  },
  {
   "cell_type": "markdown",
   "id": "be584232-05e8-4593-a879-a819efa5e936",
   "metadata": {},
   "source": [
    "* Addressing to the query whether there is a relationship between conversion status(whether users converted or not) and their preferred language, the null hypothesis formulated suggested that the conversion status is independent of preferred language.\n",
    "  \n",
    "* Chi square test of independence was done to assess if there's any relationship between conversion status and preferred language. The p-value found was 1.0.\n",
    "  \n",
    "* This value is greater than alpha of 0.05, leading to the conclusion to fail to reject the null hypothesis, indicating that there is no significant evidence to suggest that conversion status and preferred language are related.\n",
    "  \n",
    "* The contigency table provides good information to evidence that the proportions of users converting and not converting are too similar for the different language preferences.\n",
    "  \n",
    "* User conversion rates do not significantly change based on the language.\n",
    "  \n",
    "* The data suggests that the conversion status and preferred language are independent, implying that other factors can have a greater impact in conversion rates. "
   ]
  },
  {
   "cell_type": "markdown",
   "id": "8d585a90",
   "metadata": {
    "id": "8d585a90"
   },
   "source": [
    "## 4. Is the time spent on the new page same for the different language users?"
   ]
  },
  {
   "cell_type": "markdown",
   "id": "90a008ed-370d-4c16-83e4-69fb9a2339d6",
   "metadata": {
    "id": "b422f395"
   },
   "source": [
    "### Perform Visual Analysis"
   ]
  },
  {
   "cell_type": "code",
   "execution_count": 142,
   "id": "9809434e-b509-4a99-bb14-fd2d65427820",
   "metadata": {},
   "outputs": [],
   "source": [
    "new_page = df[df['landing_page'] == 'new']"
   ]
  },
  {
   "cell_type": "code",
   "execution_count": 143,
   "id": "bda478aa-9a84-454e-9738-49c7f1c8ec11",
   "metadata": {},
   "outputs": [
    {
     "data": {
      "image/png": "[encoded data removed]",
      "text/plain": [
       "<Figure size 1000x600 with 1 Axes>"
      ]
     },
     "metadata": {},
     "output_type": "display_data"
    }
   ],
   "source": [
    "plt.figure(figsize=(10, 6))\n",
    "sns.boxplot(x='language_preferred', y='time_spent_on_the_page', showmeans = True, data=new_page)\n",
    "plt.title('Time Spent on the new Page for different language users')\n",
    "plt.xlabel('Preferred Language')\n",
    "plt.ylabel('Time Spent')\n",
    "plt.show()"
   ]
  },
  {
   "cell_type": "code",
   "execution_count": 144,
   "id": "ffa4455e-5c36-4683-af95-328c6c713e2a",
   "metadata": {},
   "outputs": [
    {
     "data": {
      "image/png": "[encoded data removed]",
      "text/plain": [
       "<Figure size 1000x600 with 1 Axes>"
      ]
     },
     "metadata": {},
     "output_type": "display_data"
    }
   ],
   "source": [
    "plt.figure(figsize=(10, 6))\n",
    "sns.violinplot(x='language_preferred', y='time_spent_on_the_page', data=new_page)\n",
    "plt.title('Time Spent on the new Page for different language users')\n",
    "plt.xlabel('Preferred Language')\n",
    "plt.ylabel('Time Spent')\n",
    "plt.show()"
   ]
  },
  {
   "cell_type": "markdown",
   "id": "8738e1a1-889c-43ec-a09b-b47c973f85a2",
   "metadata": {},
   "source": [
    "### Step 1: Define the null and alternate hypotheses"
   ]
  },
  {
   "cell_type": "markdown",
   "id": "be68f3b0-db5f-4e79-a4a8-52957dd59bb4",
   "metadata": {},
   "source": [
    "* Null Hypothesis ($H_0\\$): The mean time spent on the new page is the same for all language users.\n",
    "\n",
    "* Alternative Hypothesis ($H_a\\$): The mean time spent on the new page is different for at least one language group."
   ]
  },
  {
   "cell_type": "markdown",
   "id": "daad1ef5-1892-435a-ad6c-308d00d08394",
   "metadata": {},
   "source": [
    "### Step 2: Select Appropriate test"
   ]
  },
  {
   "cell_type": "markdown",
   "id": "5135e1de-be9f-48a9-8009-9e4dab82ed41",
   "metadata": {},
   "source": [
    "* One-way ANOVA test to compare the means of time spent on the new page across 3 different languages: English, Spanish, French."
   ]
  },
  {
   "cell_type": "markdown",
   "id": "79a0b9fe-6ba7-455c-b35f-73b3bcc7578a",
   "metadata": {},
   "source": [
    "### Step 3: Decide the significance level"
   ]
  },
  {
   "cell_type": "markdown",
   "id": "c5610c2f-ae03-4116-961a-2260ed430059",
   "metadata": {},
   "source": [
    "* I'm gonna use the significance level given in the problem statement. \n",
    "* $\\alpha = 0.05$."
   ]
  },
  {
   "cell_type": "markdown",
   "id": "97eeb3e9-feca-4f03-b13b-8bad787ce571",
   "metadata": {},
   "source": [
    "### Step 4: Collect and prepare data"
   ]
  },
  {
   "cell_type": "code",
   "execution_count": 217,
   "id": "1990cffb-7710-4b1e-9ca2-8ddc87ecb9a4",
   "metadata": {},
   "outputs": [],
   "source": [
    "english_time_new_page = new_page[new_page['language_preferred'] == 'English']['time_spent_on_the_page']\n",
    "spanish_time_new_page = new_page[new_page['language_preferred'] == 'Spanish']['time_spent_on_the_page']\n",
    "french_time_new_page = new_page[new_page['language_preferred'] == 'French']['time_spent_on_the_page']\n"
   ]
  },
  {
   "cell_type": "markdown",
   "id": "2bd95076-fb1c-4f0c-930c-fadd204f3eeb",
   "metadata": {},
   "source": [
    "### Step 5: Calculate the p-value"
   ]
  },
  {
   "cell_type": "code",
   "execution_count": 220,
   "id": "3dcc5e8c-a283-418c-90cf-2f45bedc1950",
   "metadata": {},
   "outputs": [
    {
     "name": "stdout",
     "output_type": "stream",
     "text": [
      "The P-value is:  0.43204138694325955\n"
     ]
    }
   ],
   "source": [
    "from scipy.stats import f_oneway\n",
    "f_stat, p_value = f_oneway(english_time_new_page, spanish_time_new_page, french_time_new_page)\n",
    "\n",
    "print('The P-value is: ', p_value)"
   ]
  },
  {
   "cell_type": "markdown",
   "id": "a5c80be6-b9b5-4381-b733-3c308287574f",
   "metadata": {},
   "source": [
    "### Step 6: Compare the p-value with $\\alpha$"
   ]
  },
  {
   "cell_type": "code",
   "execution_count": 223,
   "id": "2b4768c1-3f8f-48c3-bbfc-810075a7bccc",
   "metadata": {},
   "outputs": [
    {
     "name": "stdout",
     "output_type": "stream",
     "text": [
      "Fail to reject the null hypothesis because the p-value is greater than the level of significance. The mean time spent on the new page is the same for all languages.\n"
     ]
    }
   ],
   "source": [
    "# Significance level\n",
    "alpha = 0.05\n",
    "\n",
    "if p_value < alpha:\n",
    "    print(\"Reject the null hypothesis because the p-value is less than the level of significance. The mean time spent on the new page is different for at least one language.\")\n",
    "else:\n",
    "    print(\"Fail to reject the null hypothesis because the p-value is greater than the level of significance. The mean time spent on the new page is the same for all languages.\")"
   ]
  },
  {
   "cell_type": "markdown",
   "id": "fe0badce-62ac-4721-a775-44d7f4971b07",
   "metadata": {},
   "source": [
    "### Step 7:  Inference"
   ]
  },
  {
   "cell_type": "markdown",
   "id": "f9c00915-4fd4-4c28-9686-d42a02188b32",
   "metadata": {},
   "source": [
    "* Addresing to the query to determine if the time spent on the new page is same for the different languages users: English, Spanish, and French. The null hypothesis stated suggested that the mean time spent on the new page is the same for all language users and the alternative hypothesis indicates that the mean time spent on the new page is different for at least one language group.\n",
    "  \n",
    "* It was performed one-way ANOVA test to compare the means of time spent on the new page across the three language groups: english, spanish and french, with a significance level set at 0.05.\n",
    "  \n",
    "* The analysis resulted in a value of 0.432041 and since this p-value is greater than alpha of 0.05 leads to the conclusion to fail to reject the null hypothesis meaning that failing to reject the null hypothesis indicates that there is no significant difference in the mean time spent on the new page among the different language users.\n",
    "  \n",
    "* The mean time spent on the new page is quite similar across English, Spanish, and French users. The mean time spent is consistent for different laguage users. The language preference doesn't have a strong impact or it doesn't affect significantly user engagement with the new landing page.\n",
    "  \n",
    "* The visual analysis also supports this conclusion because shows that the means of the time spent are quire similar across the three language groups ( triangle indicators) and it also has similar IQR ranges. \n"
   ]
  },
  {
   "cell_type": "markdown",
   "id": "3acbc947",
   "metadata": {
    "id": "3acbc947"
   },
   "source": [
    "## Conclusion and Business Recommendations"
   ]
  },
  {
   "cell_type": "markdown",
   "id": "21fb1063",
   "metadata": {
    "id": "21fb1063"
   },
   "source": [
    "1. Based on that the users spend more time on the new landing page compared to the old landing page, it is crucial to mantain the new design and to keep innovating in the future, continously improving its content and functionality. Old designs may cause the user to have less engagement with the content and consequently begin to visit the e-news portal less.\n",
    "   \n",
    "2. The new design led to a higher conversion rates, the new landing page had a positive impact in enhacing user conversion rates. This may be because new and modern designs tend to make the user feel more attracted to the content and consequently the user will want to subscribe to continue consuming the content.\n",
    "   \n",
    "3. The new design of the landing page has proven effectiveness in time spent and conversion rates.  \n",
    "   \n",
    "5. Since the time spent on the page correlates to higher conversion rates, it is suggested to have interactive elements such as short videos, related content suggestions, interaction in forums and comments, surveys, and even live chats and live streams to keep users on the e news portal longer.\n",
    "   \n",
    "6. Even though user conversion rates do not significantly change based on the language. It can be important to consider creating customized content for English, Spanish and French users because there is a significant cultural difference depending on the language, users may have different preferences. This can lead to improve user experience and in long term increase conversion rates for each language group.\n",
    "   \n",
    "7. It is suggested to consistently monitor conversion rates among users of different languages and analyze regularly performance metrics to detect patterns and implement conscious changes. As well as implement testing for the variation of the content on the new landing page to identigy which changes result to the best engament and conversion results.\n",
    "   \n",
    "8. A good approach could be audience segmentation: dividing the audience according to language preferences for customize email marketing and user experiences."
   ]
  },
  {
   "cell_type": "markdown",
   "id": "U0dAd4i0iCHo",
   "metadata": {
    "id": "U0dAd4i0iCHo"
   },
   "source": [
    "___"
   ]
  }
 ],
 "metadata": {
  "colab": {
   "collapsed_sections": [
    "6970dd99",
    "9d75cfa2",
    "68f3b2c9",
    "fad2de2f",
    "27906576",
    "e5fdf0c8",
    "56b3dafd",
    "c7ee4907",
    "3f58c9a7",
    "5fed2eac",
    "f5c5258d",
    "359b12f8",
    "d9affc84",
    "353e9d24",
    "d49bfa2d",
    "8d585a90",
    "3acbc947"
   ],
   "provenance": []
  },
  "kernelspec": {
   "display_name": "Python 3 (ipykernel)",
   "language": "python",
   "name": "python3"
  },
  "language_info": {
   "codemirror_mode": {
    "name": "ipython",
    "version": 3
   },
   "file_extension": ".py",
   "mimetype": "text/x-python",
   "name": "python",
   "nbconvert_exporter": "python",
   "pygments_lexer": "ipython3",
   "version": "3.12.4"
  }
 },
 "nbformat": 4,
 "nbformat_minor": 5
}
